{
 "cells": [
  {
   "cell_type": "code",
   "execution_count": 1,
   "metadata": {},
   "outputs": [
    {
     "data": {
      "text/plain": [
       "\"/mnt/c/Users/7fx06/Documents/GitHub/ntl.jl\""
      ]
     },
     "execution_count": 1,
     "metadata": {},
     "output_type": "execute_result"
    }
   ],
   "source": [
    "cd(\"/mnt/c/Users/7fx06/Documents/GitHub/ntl.jl\")\n",
    "\n",
    "include(\"src/lzz_p.jl\")\n",
    "\n",
    "pwd()"
   ]
  },
  {
   "cell_type": "markdown",
   "metadata": {},
   "source": [
    "## info \n",
    "The information of template, field class, and field elements."
   ]
  },
  {
   "cell_type": "code",
   "execution_count": 2,
   "metadata": {},
   "outputs": [
    {
     "name": "stdout",
     "output_type": "stream",
     "text": [
      "Dict{String, Any}(\"zz_p_Max\" => 9223372036854775807, \"zz_p_Min\" => 2, \"Discript\" => \"This module is a prime field with small p\")\n",
      "Dict{String, Any}(\"zero\" => zz_7(0), \"modulus\" => 7, \"one\" => zz_7(1))\n",
      "Dict{String, Any}(\"field\" => \"zz_7\", \"reprentation\" => 1)\n"
     ]
    }
   ],
   "source": [
    "\n",
    "println(info(zz_p))\n",
    "println(info(zz_p{7}))\n",
    "println(info(zz_p{7}(1)))"
   ]
  },
  {
   "cell_type": "code",
   "execution_count": 3,
   "metadata": {},
   "outputs": [
    {
     "name": "stdout",
     "output_type": "stream",
     "text": [
      "Finite Field: zz_7[zz_7(6), zz_7(3), zz_7(0), zz_7(0), zz_7(0), zz_7(0), zz_7(6), zz_7(1), zz_7(5), zz_7(3)]\n",
      "---\n",
      "zz_5(2)\n"
     ]
    }
   ],
   "source": [
    "println(rand(zz_p{7},10))\n",
    "println(\"---\")\n",
    "println(rand(zz_p{5}))"
   ]
  },
  {
   "cell_type": "code",
   "execution_count": 4,
   "metadata": {},
   "outputs": [
    {
     "data": {
      "text/plain": [
       "true"
      ]
     },
     "execution_count": 4,
     "metadata": {},
     "output_type": "execute_result"
    }
   ],
   "source": [
    "zz_7 = zz_p{7}\n",
    "zz_7 === zz_p{7}"
   ]
  },
  {
   "cell_type": "code",
   "execution_count": 5,
   "metadata": {},
   "outputs": [
    {
     "name": "stdout",
     "output_type": "stream",
     "text": [
      "a=2\n",
      "b=1"
     ]
    }
   ],
   "source": [
    "a =1;\n",
    "b =2;\n",
    "a, b = b,a\n",
    "print(\"a=\",a,\"\\n\",\"b=\",b)\n"
   ]
  },
  {
   "cell_type": "code",
   "execution_count": 6,
   "metadata": {},
   "outputs": [
    {
     "data": {
      "text/plain": [
       "swap! (generic function with 1 method)"
      ]
     },
     "execution_count": 6,
     "metadata": {},
     "output_type": "execute_result"
    }
   ],
   "source": [
    "@inline function swap!(x::zz_p{T}, y::zz_p{T}) where {T}\n",
    "    x,y = y,x ;\n",
    "    nothing\n",
    "end\n"
   ]
  },
  {
   "cell_type": "code",
   "execution_count": 19,
   "metadata": {},
   "outputs": [
    {
     "data": {
      "text/plain": [
       "Finite Field: zz_11"
      ]
     },
     "execution_count": 19,
     "metadata": {},
     "output_type": "execute_result"
    }
   ],
   "source": [
    "zz_11=zz_p(11)"
   ]
  },
  {
   "cell_type": "code",
   "execution_count": 8,
   "metadata": {},
   "outputs": [
    {
     "data": {
      "text/plain": [
       "convert (generic function with 199 methods)"
      ]
     },
     "execution_count": 8,
     "metadata": {},
     "output_type": "execute_result"
    }
   ],
   "source": [
    "struct zz_p_prime \n",
    "    _prime::Int\n",
    "    function zz_p_prime(a::Int)\n",
    "        new(a)\n",
    "    end\n",
    "end\n",
    "function convert(a::Int,::zz_p_prime)\n",
    "    return zz_p_prime(a)\n",
    "end\n",
    "\n"
   ]
  },
  {
   "cell_type": "code",
   "execution_count": 9,
   "metadata": {},
   "outputs": [
    {
     "data": {
      "text/plain": [
       "info (generic function with 3 methods)"
      ]
     },
     "execution_count": 9,
     "metadata": {},
     "output_type": "execute_result"
    }
   ],
   "source": [
    "struct NTL_INIT_zz_p end # type for init\n",
    "const _init_zz_p=NTL_INIT_zz_p()\n",
    "const zz_p_Max=typemax(Int)\n",
    "const zz_p_Min=2;\n",
    "mutable struct zz_p{T}\n",
    "    _rep::Int \n",
    "    function zz_p{T}() where {T} \n",
    "        new(0::Int)\n",
    "    end\n",
    "    # If we know a is representable\n",
    "    function zz_p{T}(a::Int, ::NTL_INIT_zz_p) where {T} \n",
    "        new(a)\n",
    "    end\n",
    "    function zz_p{T}(a::Int) where {T} \n",
    "        new(mod(a, T))\n",
    "    end\n",
    "end\n",
    "## info of type zz_p{T}\n",
    "function modulus(::Type{zz_p{T}}) where {T}\n",
    "    return T\n",
    "end\n",
    "function zero(::Type{zz_p{T}}) where {T}\n",
    "    return zz_p{T}(0)\n",
    "end\n",
    "function one(::Type{zz_p{T}}) where {T}\n",
    "    return zz_p{T}(1, _init_zz_p)\n",
    "end\n",
    "function info(::Type{zz_p{T}}) where {T}\n",
    "    return Dict(\"modulus\"=>modulus(zz_p{T}), \"zero\"=>zero(zz_p{T}), \"one\"=>one(zz_p{T}))\n",
    "end\n"
   ]
  },
  {
   "cell_type": "code",
   "execution_count": 10,
   "metadata": {},
   "outputs": [
    {
     "data": {
      "text/plain": [
       "show (generic function with 281 methods)"
      ]
     },
     "execution_count": 10,
     "metadata": {},
     "output_type": "execute_result"
    }
   ],
   "source": [
    "struct NTL_INIT_zz_p end # type for init\n",
    "const _init_zz_p=NTL_INIT_zz_p()\n",
    "const zz_p_Max=typemax(Int)\n",
    "const zz_p_Min=2;\n",
    "mutable struct zz_p{T}\n",
    "    _rep::Int \n",
    "    function zz_p{T}() where {T} \n",
    "        new(0::Int)\n",
    "    end\n",
    "    # If we know a is representable\n",
    "    function zz_p{T}(a::Int, ::NTL_INIT_zz_p) where {T} \n",
    "        new(a)\n",
    "    end\n",
    "    function zz_p{T}(a::Int) where {T} \n",
    "        new(mod(a, T))\n",
    "    end\n",
    "end\n",
    "show(io::IO, x::Type{zz_p{T}}) where {T} = print(io, info(x))"
   ]
  },
  {
   "cell_type": "code",
   "execution_count": 11,
   "metadata": {},
   "outputs": [
    {
     "data": {
      "text/plain": [
       "show (generic function with 281 methods)"
      ]
     },
     "execution_count": 11,
     "metadata": {},
     "output_type": "execute_result"
    }
   ],
   "source": [
    "zz_7=zz_p{7}\n",
    "Type{zz_7}\n",
    "show(io::IO, x::Type{zz_p{T}}) where {T} = print(io, info(x))\n"
   ]
  },
  {
   "cell_type": "code",
   "execution_count": 12,
   "metadata": {},
   "outputs": [
    {
     "data": {
      "text/plain": [
       "show (generic function with 281 methods)"
      ]
     },
     "execution_count": 12,
     "metadata": {},
     "output_type": "execute_result"
    }
   ],
   "source": [
    "show(io::IO, ::Type{zz_p{T}}) where {T} = print(io, \"Finite Field: zz_\", modulus(zz_p{T}))"
   ]
  },
  {
   "cell_type": "markdown",
   "metadata": {},
   "source": [
    "a in (-4,+3)\n",
    "b in (-4,+3)\n",
    "a+b mod 3 ?\n",
    "a+b = [a+b] or [a+b-8]\n",
    "a+b-n = [a+b-n] or [a+b-n-8]\n"
   ]
  }
 ],
 "metadata": {
  "kernelspec": {
   "display_name": "Julia 1.8.1",
   "language": "julia",
   "name": "julia-1.8"
  },
  "language_info": {
   "file_extension": ".jl",
   "mimetype": "application/julia",
   "name": "julia",
   "version": "1.8.1"
  },
  "orig_nbformat": 4
 },
 "nbformat": 4,
 "nbformat_minor": 2
}
