{
 "cells": [
  {
   "cell_type": "code",
   "execution_count": 12,
   "metadata": {},
   "outputs": [
    {
     "data": {
      "text/plain": [
       "\"/mnt/c/Users/7fx06/Documents/GitHub/ntl.jl\""
      ]
     },
     "execution_count": 12,
     "metadata": {},
     "output_type": "execute_result"
    }
   ],
   "source": [
    "cd(\"/mnt/c/Users/7fx06/Documents/GitHub/ntl.jl\")\n",
    "\n",
    "include(\"src/lzz_p.jl\")\n",
    "\n",
    "pwd()"
   ]
  },
  {
   "cell_type": "markdown",
   "metadata": {},
   "source": [
    "## info \n",
    "The information of template, field class, and field elements."
   ]
  },
  {
   "cell_type": "code",
   "execution_count": 13,
   "metadata": {},
   "outputs": [
    {
     "name": "stdout",
     "output_type": "stream",
     "text": [
      "Dict{String, Any}(\"zz_p_Max\" => 9223372036854775807, \"zz_p_Min\" => 2, \"Discript\" => \"This module is a prime field with small p\")\n",
      "Dict{String, Any}(\"zero\" => zz_7(0), \"modulus\" => 7, \"one\" => zz_7(1))\n",
      "Dict{String, Any}(\"field\" => \"zz_7\", \"reprentation\" => 1)\n"
     ]
    }
   ],
   "source": [
    "\n",
    "println(info(zz_p))\n",
    "println(info(zz_p{7}))\n",
    "println(info(zz_p{7}(1)))"
   ]
  },
  {
   "cell_type": "code",
   "execution_count": 21,
   "metadata": {},
   "outputs": [
    {
     "name": "stdout",
     "output_type": "stream",
     "text": [
      "zz_p{7}[zz_7(4), zz_7(6), zz_7(3), zz_7(6), zz_7(3), zz_7(0), zz_7(5), zz_7(4), zz_7(2), zz_7(1)]\n",
      "---\n",
      "zz_5(3)\n"
     ]
    }
   ],
   "source": [
    "println(rand(zz_p{7},10))\n",
    "println(\"---\")\n",
    "println(rand(zz_p{5}))"
   ]
  },
  {
   "cell_type": "code",
   "execution_count": 29,
   "metadata": {},
   "outputs": [
    {
     "data": {
      "text/plain": [
       "true"
      ]
     },
     "execution_count": 29,
     "metadata": {},
     "output_type": "execute_result"
    }
   ],
   "source": [
    "zz_7 = zz_p{7}\n",
    "zz_7 === zz_p{7}"
   ]
  },
  {
   "cell_type": "code",
   "execution_count": 39,
   "metadata": {},
   "outputs": [
    {
     "name": "stdout",
     "output_type": "stream",
     "text": [
      "a=2\n",
      "b=1"
     ]
    }
   ],
   "source": [
    "a =1;\n",
    "b =2;\n",
    "a, b = b,a\n",
    "print(\"a=\",a,\"\\n\",\"b=\",b)\n"
   ]
  },
  {
   "cell_type": "code",
   "execution_count": 40,
   "metadata": {},
   "outputs": [
    {
     "data": {
      "text/plain": [
       "swap! (generic function with 1 method)"
      ]
     },
     "execution_count": 40,
     "metadata": {},
     "output_type": "execute_result"
    }
   ],
   "source": [
    "@inline function swap!(x::zz_p{T}, y::zz_p{T}) where {T}\n",
    "    x,y = y,x ;\n",
    "    nothing\n",
    "end\n"
   ]
  },
  {
   "cell_type": "code",
   "execution_count": 44,
   "metadata": {},
   "outputs": [
    {
     "data": {
      "text/plain": [
       "swap! (generic function with 1 method)"
      ]
     },
     "execution_count": 44,
     "metadata": {},
     "output_type": "execute_result"
    }
   ],
   "source": [
    "x=zz_7(1); \n",
    "y=zz_7(2);\n",
    "swap!(x,y);\n",
    "@inline function swap!(x::zz_p{T}, y::zz_p{T}) where {T}\n",
    "    x,y = y,x ;\n",
    "    nothing\n",
    "end"
   ]
  },
  {
   "cell_type": "code",
   "execution_count": 10,
   "metadata": {},
   "outputs": [
    {
     "ename": "LoadError",
     "evalue": "syntax: invalid type signature around In[10]:11",
     "output_type": "error",
     "traceback": [
      "syntax: invalid type signature around In[10]:11",
      "",
      "Stacktrace:",
      " [1] top-level scope",
      "   @ In[10]:11",
      " [2] eval",
      "   @ ./boot.jl:368 [inlined]",
      " [3] include_string(mapexpr::typeof(REPL.softscope), mod::Module, code::String, filename::String)",
      "   @ Base ./loading.jl:1428"
     ]
    }
   ],
   "source": [
    "struct zz_p_prime \n",
    "    _prime::Int\n",
    "    function zz_p_prime(a::Int)\n",
    "        new(a)\n",
    "    end\n",
    "end\n",
    "function convert(a::Int,::zz_p_prime)\n",
    "    return zz_p_prime(a)\n",
    "end\n",
    "\n"
   ]
  },
  {
   "cell_type": "code",
   "execution_count": 14,
   "metadata": {},
   "outputs": [],
   "source": [
    "struct NTL_INIT_zz_p end # type for init\n",
    "const _init_zz_p=NTL_INIT_zz_p()\n",
    "const zz_p_Max=typemax(Int)\n",
    "const zz_p_Min=2;\n",
    "mutable struct zz_p{T}\n",
    "    _rep::Int \n",
    "    function zz_p{T}() where {T} \n",
    "        new(0::Int)\n",
    "    end\n",
    "    # If we know a is representable\n",
    "    function zz_p{T}(a::Int, ::NTL_INIT_zz_p) where {T} \n",
    "        new(a)\n",
    "    end\n",
    "    function zz_p{T}(a::Int) where {T} \n",
    "        new(mod(a, T))\n",
    "    end\n",
    "end\n"
   ]
  },
  {
   "cell_type": "code",
   "execution_count": 6,
   "metadata": {},
   "outputs": [
    {
     "data": {
      "text/plain": [
       "zz_p"
      ]
     },
     "execution_count": 6,
     "metadata": {},
     "output_type": "execute_result"
    }
   ],
   "source": [
    "using Primes;\n",
    "import Primes: isprime\n",
    "\n",
    "struct NTL_INIT_zz_p end # type for init\n",
    "const _init_zz_p=NTL_INIT_zz_p()\n",
    "const zz_p_Max=typemax(Int)\n",
    "const zz_p_Min=2;\n",
    "\n",
    "# 还需要写一个T不在正常范围内的报错代码！\n",
    "\n",
    "struct zz_p_prime \n",
    "    _prime::Int\n",
    "    function zz_p_prime(a::Int)\n",
    "        new(a)\n",
    "    end\n",
    "end\n",
    "function convert(a::Int,::zz_p_prime)\n",
    "    # test prime ??\n",
    "    return zz_p_prime(a)\n",
    "end\n",
    "\n",
    "\n",
    "\"\"\"\n",
    "struct zz_p{T} is the type of finite fields\n",
    "\n",
    "    ## Examples:\n",
    "    julia> zz_p{7} # The type of finite fields of cardinality 7\n",
    "    julia> zz_p{3}(4) # Element 4 in zz_p{3} which equals 1 in zz_p{3}\n",
    "    julia> zz_p{3}() # Element 0 in zz_p{3}\n",
    "\"\"\"\n",
    "mutable struct zz_p{T}\n",
    "    _rep::Int \n",
    "    function zz_p{T}() where {T} \n",
    "        new(0::Int)\n",
    "    end\n",
    "    # If we know a is representable\n",
    "    function zz_p{T}(a::Int, ::NTL_INIT_zz_p) where {T} \n",
    "        new(a)\n",
    "    end\n",
    "    function zz_p{T}(a::Int) where {T} \n",
    "        new(mod(a, T))\n",
    "    end\n",
    "end\n",
    "\n",
    "function zz_p(T::Int)\n",
    "    if T > 1 && isprime(T)\n",
    "    return zz_p{T}\n",
    "    end\n",
    "    error(\"The parameter is NOT a prime!\")\n",
    "end\n"
   ]
  },
  {
   "cell_type": "code",
   "execution_count": 8,
   "metadata": {},
   "outputs": [
    {
     "data": {
      "text/plain": [
       "zz_p{3}"
      ]
     },
     "execution_count": 8,
     "metadata": {},
     "output_type": "execute_result"
    }
   ],
   "source": [
    "zz_7=zz_p(7)\n",
    "a=zz_p(7)\n",
    "b=zz_p(7)\n",
    "zz_p(3)"
   ]
  },
  {
   "cell_type": "code",
   "execution_count": 30,
   "metadata": {},
   "outputs": [
    {
     "ename": "LoadError",
     "evalue": "UndefVarError: prime not defined",
     "output_type": "error",
     "traceback": [
      "UndefVarError: prime not defined",
      "",
      "Stacktrace:",
      " [1] top-level scope",
      "   @ In[30]:1",
      " [2] eval",
      "   @ ./boot.jl:368 [inlined]",
      " [3] include_string(mapexpr::typeof(REPL.softscope), mod::Module, code::String, filename::String)",
      "   @ Base ./loading.jl:1428"
     ]
    }
   ],
   "source": [
    "prime(7)"
   ]
  },
  {
   "cell_type": "markdown",
   "metadata": {},
   "source": [
    "a in (-4,+3)\n",
    "b in (-4,+3)\n",
    "a+b mod 3 ?\n",
    "a+b = [a+b] or [a+b-8]\n",
    "a+b-n = [a+b-n] or [a+b-n-8]\n"
   ]
  }
 ],
 "metadata": {
  "kernelspec": {
   "display_name": "Julia 1.8.2",
   "language": "julia",
   "name": "julia-1.8"
  },
  "language_info": {
   "file_extension": ".jl",
   "mimetype": "application/julia",
   "name": "julia",
   "version": "1.8.2"
  },
  "orig_nbformat": 4
 },
 "nbformat": 4,
 "nbformat_minor": 2
}
