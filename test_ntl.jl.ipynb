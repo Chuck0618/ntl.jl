{
 "cells": [
  {
   "cell_type": "code",
   "execution_count": 1,
   "metadata": {},
   "outputs": [
    {
     "data": {
      "text/plain": [
       "\"/home/huchq/Documents/project/ntl.jl\""
      ]
     },
     "execution_count": 1,
     "metadata": {},
     "output_type": "execute_result"
    }
   ],
   "source": [
    "readdir()\n",
    "include(\"src/lzz_p.jl\")\n",
    "pwd()"
   ]
  },
  {
   "cell_type": "code",
   "execution_count": 4,
   "metadata": {},
   "outputs": [
    {
     "name": "stdout",
     "output_type": "stream",
     "text": [
      "Dict{String, Any}(\"zz_p_Max\" => 9223372036854775807, \"zz_p_Min\" => 2, \"Discript\" => \"This module is a prime field with small p\")\n",
      "Dict{String, Any}(\"zero\" => zz_7(0), \"modulus\" => 7, \"one\" => zz_7(1))\n",
      "Dict{String, Any}(\"field\" => \"zz_7\", \"reprentation\" => 1)\n"
     ]
    }
   ],
   "source": [
    "println(info(zz_p))\n",
    "println(info(zz_p{7}))\n",
    "println(info(zz_p{7}(1)))"
   ]
  },
  {
   "cell_type": "code",
   "execution_count": 21,
   "metadata": {},
   "outputs": [
    {
     "data": {
      "text/plain": [
       "rand (generic function with 84 methods)"
      ]
     },
     "execution_count": 21,
     "metadata": {},
     "output_type": "execute_result"
    }
   ],
   "source": [
    "function rand(::Type{zz_p{T}}, k::Int) where {T}\n",
    "    return zz_p{T}.(rand(Int,k))\n",
    "end"
   ]
  },
  {
   "cell_type": "code",
   "execution_count": 22,
   "metadata": {},
   "outputs": [
    {
     "data": {
      "text/plain": [
       "4-element Vector{zz_p{7}}:\n",
       " zz_7(6)\n",
       " zz_7(6)\n",
       " zz_7(3)\n",
       " zz_7(6)"
      ]
     },
     "execution_count": 22,
     "metadata": {},
     "output_type": "execute_result"
    }
   ],
   "source": [
    "rand(zz_p{7},4)"
   ]
  },
  {
   "cell_type": "code",
   "execution_count": 30,
   "metadata": {},
   "outputs": [
    {
     "name": "stdout",
     "output_type": "stream",
     "text": [
      "DataType\n"
     ]
    },
    {
     "data": {
      "text/plain": [
       "info (generic function with 1 method)"
      ]
     },
     "metadata": {},
     "output_type": "display_data"
    }
   ],
   "source": [
    "Type{Float16}==Float16\n",
    "println(typeof(Float16))\n",
    "typeof(Type{Float16})\n",
    "Type{Float16}, Float16\n",
    "isa(Float32, Type{Float16})\n"
   ]
  },
  {
   "cell_type": "code",
   "execution_count": 31,
   "metadata": {},
   "outputs": [
    {
     "data": {
      "text/plain": [
       "info (generic function with 1 method)"
      ]
     },
     "metadata": {},
     "output_type": "display_data"
    }
   ],
   "source": [
    "function info(::Type{zz_p{T}}) where {T}\n",
    "    return Dict(\"modulus\"=>modulus(zz_p{T}), \"zero\"=>zero(zz_p{T}), \"one\"=>one(zz_p{T}))\n",
    "end"
   ]
  },
  {
   "cell_type": "code",
   "execution_count": 32,
   "metadata": {},
   "outputs": [
    {
     "data": {
      "text/plain": [
       "Dict{String, Any} with 3 entries:\n",
       "  \"zero\"    => zz_7(0)\n",
       "  \"modulus\" => 7\n",
       "  \"one\"     => zz_7(1)"
      ]
     },
     "metadata": {},
     "output_type": "display_data"
    }
   ],
   "source": [
    "info(zz_7)"
   ]
  },
  {
   "cell_type": "code",
   "execution_count": 15,
   "metadata": {},
   "outputs": [
    {
     "data": {
      "text/plain": [
       "info (generic function with 3 methods)"
      ]
     },
     "execution_count": 15,
     "metadata": {},
     "output_type": "execute_result"
    }
   ],
   "source": [
    "function info(a::zz_p{T}) where {T}\n",
    "    return Dict(\"reprentation\"=>a._rep, \"field\"=>\"zz_\"*string(T))\n",
    "end"
   ]
  },
  {
   "cell_type": "code",
   "execution_count": 16,
   "metadata": {},
   "outputs": [
    {
     "data": {
      "text/plain": [
       "Dict{String, Any} with 2 entries:\n",
       "  \"field\"        => \"zz_7\"\n",
       "  \"reprentation\" => 0"
      ]
     },
     "execution_count": 16,
     "metadata": {},
     "output_type": "execute_result"
    }
   ],
   "source": [
    "info(zz_7())"
   ]
  },
  {
   "cell_type": "code",
   "execution_count": 20,
   "metadata": {},
   "outputs": [
    {
     "data": {
      "text/plain": [
       "(zz_7(2), zz_7(1))"
      ]
     },
     "execution_count": 20,
     "metadata": {},
     "output_type": "execute_result"
    }
   ],
   "source": [
    "x=zz_7(1); y=zz_7(2)\n",
    "swap!(x,y);\n",
    "x,y"
   ]
  },
  {
   "cell_type": "code",
   "execution_count": 25,
   "metadata": {},
   "outputs": [
    {
     "data": {
      "text/plain": [
       "Dict{String, Any} with 2 entries:\n",
       "  \"field\"        => \"zz_7\"\n",
       "  \"reprentation\" => 2"
      ]
     },
     "execution_count": 25,
     "metadata": {},
     "output_type": "execute_result"
    }
   ],
   "source": [
    "zz_7(1)==1\n",
    "info(zz_7(23))"
   ]
  },
  {
   "cell_type": "code",
   "execution_count": 26,
   "metadata": {},
   "outputs": [
    {
     "data": {
      "text/plain": [
       "true"
      ]
     },
     "execution_count": 26,
     "metadata": {},
     "output_type": "execute_result"
    }
   ],
   "source": [
    "zz_7(1)==1"
   ]
  },
  {
   "cell_type": "markdown",
   "metadata": {},
   "source": [
    "a in (-4,+3)\n",
    "b in (-4,+3)\n",
    "a+b mod 3 ?\n",
    "a+b = [a+b] or [a+b-8]\n",
    "a+b-n = [a+b-n] or [a+b-n-8]\n"
   ]
  }
 ],
 "metadata": {
  "kernelspec": {
   "display_name": "Julia 1.8.2",
   "language": "julia",
   "name": "julia-1.8"
  },
  "language_info": {
   "file_extension": ".jl",
   "mimetype": "application/julia",
   "name": "julia",
   "version": "1.8.2"
  },
  "orig_nbformat": 4
 },
 "nbformat": 4,
 "nbformat_minor": 2
}
