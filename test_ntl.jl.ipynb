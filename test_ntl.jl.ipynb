{
 "cells": [
  {
   "cell_type": "code",
   "execution_count": 12,
   "metadata": {},
   "outputs": [
    {
     "data": {
      "text/plain": [
       "\"/mnt/c/Users/7fx06/Documents/GitHub/ntl.jl\""
      ]
     },
     "execution_count": 12,
     "metadata": {},
     "output_type": "execute_result"
    }
   ],
   "source": [
    "cd(\"/mnt/c/Users/7fx06/Documents/GitHub/ntl.jl\")\n",
    "\n",
    "include(\"src/lzz_p.jl\")\n",
    "\n",
    "pwd()"
   ]
  },
  {
   "cell_type": "markdown",
   "metadata": {},
   "source": [
    "## info \n",
    "The information of template, field class, and field elements."
   ]
  },
  {
   "cell_type": "code",
   "execution_count": 13,
   "metadata": {},
   "outputs": [
    {
     "name": "stdout",
     "output_type": "stream",
     "text": [
      "Dict{String, Any}(\"zz_p_Max\" => 9223372036854775807, \"zz_p_Min\" => 2, \"Discript\" => \"This module is a prime field with small p\")\n",
      "Dict{String, Any}(\"zero\" => zz_7(0), \"modulus\" => 7, \"one\" => zz_7(1))\n",
      "Dict{String, Any}(\"field\" => \"zz_7\", \"reprentation\" => 1)\n"
     ]
    }
   ],
   "source": [
    "\n",
    "println(info(zz_p))\n",
    "println(info(zz_p{7}))\n",
    "println(info(zz_p{7}(1)))"
   ]
  },
  {
   "cell_type": "code",
   "execution_count": 21,
   "metadata": {},
   "outputs": [
    {
     "name": "stdout",
     "output_type": "stream",
     "text": [
      "zz_p{7}[zz_7(4), zz_7(6), zz_7(3), zz_7(6), zz_7(3), zz_7(0), zz_7(5), zz_7(4), zz_7(2), zz_7(1)]\n",
      "---\n",
      "zz_5(3)\n"
     ]
    }
   ],
   "source": [
    "println(rand(zz_p{7},10))\n",
    "println(\"---\")\n",
    "println(rand(zz_p{5}))"
   ]
  },
  {
   "cell_type": "code",
   "execution_count": 29,
   "metadata": {},
   "outputs": [
    {
     "data": {
      "text/plain": [
       "true"
      ]
     },
     "execution_count": 29,
     "metadata": {},
     "output_type": "execute_result"
    }
   ],
   "source": [
    "zz_7 = zz_p{7}\n",
    "zz_7 === zz_p{7}"
   ]
  },
  {
   "cell_type": "code",
   "execution_count": 39,
   "metadata": {},
   "outputs": [
    {
     "name": "stdout",
     "output_type": "stream",
     "text": [
      "a=2\n",
      "b=1"
     ]
    }
   ],
   "source": [
    "a =1;\n",
    "b =2;\n",
    "a, b = b,a\n",
    "print(\"a=\",a,\"\\n\",\"b=\",b)\n"
   ]
  },
  {
   "cell_type": "code",
   "execution_count": 40,
   "metadata": {},
   "outputs": [
    {
     "data": {
      "text/plain": [
       "swap! (generic function with 1 method)"
      ]
     },
     "execution_count": 40,
     "metadata": {},
     "output_type": "execute_result"
    }
   ],
   "source": [
    "@inline function swap!(x::zz_p{T}, y::zz_p{T}) where {T}\n",
    "    x,y = y,x ;\n",
    "    nothing\n",
    "end\n"
   ]
  },
  {
   "cell_type": "code",
   "execution_count": 44,
   "metadata": {},
   "outputs": [
    {
     "data": {
      "text/plain": [
       "swap! (generic function with 1 method)"
      ]
     },
     "execution_count": 44,
     "metadata": {},
     "output_type": "execute_result"
    }
   ],
   "source": [
    "x=zz_7(1); \n",
    "y=zz_7(2);\n",
    "swap!(x,y);\n",
    "@inline function swap!(x::zz_p{T}, y::zz_p{T}) where {T}\n",
    "    x,y = y,x ;\n",
    "    nothing\n",
    "end"
   ]
  },
  {
   "cell_type": "code",
   "execution_count": 71,
   "metadata": {},
   "outputs": [
    {
     "data": {
      "text/plain": [
       "(1, 1, -1)"
      ]
     },
     "execution_count": 71,
     "metadata": {},
     "output_type": "execute_result"
    }
   ],
   "source": [
    "gcdx(7,6)"
   ]
  },
  {
   "cell_type": "code",
   "execution_count": 68,
   "metadata": {},
   "outputs": [
    {
     "data": {
      "text/plain": [
       "zz_7(2)"
      ]
     },
     "execution_count": 68,
     "metadata": {},
     "output_type": "execute_result"
    }
   ],
   "source": [
    "x=zz_7(3); y = zz_7(2);\n",
    "x*(-4)"
   ]
  },
  {
   "cell_type": "markdown",
   "metadata": {},
   "source": [
    "a in (-4,+3)\n",
    "b in (-4,+3)\n",
    "a+b mod 3 ?\n",
    "a+b = [a+b] or [a+b-8]\n",
    "a+b-n = [a+b-n] or [a+b-n-8]\n"
   ]
  }
 ],
 "metadata": {
  "kernelspec": {
   "display_name": "Julia 1.8.1",
   "language": "julia",
   "name": "julia-1.8"
  },
  "language_info": {
   "file_extension": ".jl",
   "mimetype": "application/julia",
   "name": "julia",
   "version": "1.8.1"
  },
  "orig_nbformat": 4
 },
 "nbformat": 4,
 "nbformat_minor": 2
}
